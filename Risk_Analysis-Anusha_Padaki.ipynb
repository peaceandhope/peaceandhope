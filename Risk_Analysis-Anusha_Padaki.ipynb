{
 "cells": [
  {
   "cell_type": "code",
   "execution_count": 1,
   "id": "152c5e57-600c-4caa-a037-193b8dc564c2",
   "metadata": {},
   "outputs": [],
   "source": [
    "import matplotlib.pyplot as plt\n",
    "import numpy as np"
   ]
  },
  {
   "cell_type": "code",
   "execution_count": 2,
   "id": "4c59ad13-dbfc-4519-ba72-771d3d4c9a01",
   "metadata": {},
   "outputs": [],
   "source": [
    "# Data for visualization\n",
    "companies = ['Reliance', 'IOCL', 'NTPC']\n",
    "profit_margin = [15.0, 8.5, 18.0]\n",
    "revenue_cagr = [12.0, 10.0, 8.5]\n",
    "roe = [20.5, 15.3, 22.0]"
   ]
  },
  {
   "cell_type": "code",
   "execution_count": 3,
   "id": "6c93bf87-7c17-4efa-abb3-4612c1196df2",
   "metadata": {},
   "outputs": [],
   "source": [
    "# Data for visualization\n",
    "companies = ['Reliance', 'IOCL', 'NTPC']\n",
    "profit_margin = [15.0, 8.5, 18.0]\n",
    "revenue_cagr = [12.0, 10.0, 8.5]\n",
    "roe = [20.5, 15.3, 22.0]"
   ]
  },
  {
   "cell_type": "code",
   "execution_count": 4,
   "id": "523bcfcc-7224-4f1d-8246-2087ea0ce423",
   "metadata": {},
   "outputs": [],
   "source": [
    "# Set up bar width\n",
    "bar_width = 0.25\n",
    "x = np.arange(len(companies))"
   ]
  },
  {
   "cell_type": "code",
   "execution_count": 5,
   "id": "d1bc9807-535f-4147-9840-a3e246d51c55",
   "metadata": {},
   "outputs": [
    {
     "data": {
      "text/plain": [
       "<BarContainer object of 3 artists>"
      ]
     },
     "execution_count": 5,
     "metadata": {},
     "output_type": "execute_result"
    },
    {
     "data": {
      "image/png": "[encoded data removed]",
      "text/plain": [
       "<Figure size 1000x600 with 1 Axes>"
      ]
     },
     "metadata": {},
     "output_type": "display_data"
    }
   ],
   "source": [
    "# Plotting\n",
    "fig, ax = plt.subplots(figsize=(10, 6))\n",
    "\n",
    "ax.bar(x - bar_width, profit_margin, width=bar_width, label='Profit Margin (%)', color='b')\n",
    "ax.bar(x, revenue_cagr, width=bar_width, label='Revenue CAGR (5 Y) (%)', color='g')\n",
    "ax.bar(x + bar_width, roe, width=bar_width, label='Return on Equity (%)', color='r')"
   ]
  },
  {
   "cell_type": "code",
   "execution_count": null,
   "id": "b6d7cf1c-1cd2-413a-a343-fa0f8a593044",
   "metadata": {},
   "outputs": [],
   "source": []
  },
  {
   "cell_type": "code",
   "execution_count": null,
   "id": "940455f2-1f12-4b72-9af2-4e19d79af3dd",
   "metadata": {},
   "outputs": [],
   "source": []
  },
  {
   "cell_type": "code",
   "execution_count": 8,
   "id": "554398a6-76bc-4fad-934f-8b65c9d22a0a",
   "metadata": {},
   "outputs": [],
   "source": []
  },
  {
   "cell_type": "code",
   "execution_count": 15,
   "id": "fb9e029b-bf60-407a-8dcd-220772f0362a",
   "metadata": {},
   "outputs": [],
   "source": [
    "\n"
   ]
  },
  {
   "cell_type": "code",
   "execution_count": 9,
   "id": "5ebdf78f-f064-43f2-9ab1-0b8513984de5",
   "metadata": {},
   "outputs": [],
   "source": []
  },
  {
   "cell_type": "code",
   "execution_count": 10,
   "id": "a59de13f-70aa-4c4b-b87d-b51486e00745",
   "metadata": {},
   "outputs": [],
   "source": []
  },
  {
   "cell_type": "code",
   "execution_count": 12,
   "id": "d656b414-4a89-440f-8536-e5ad16a7e87f",
   "metadata": {},
   "outputs": [],
   "source": []
  },
  {
   "cell_type": "code",
   "execution_count": null,
   "id": "31a79157-bf2f-4404-8117-4a44da130344",
   "metadata": {},
   "outputs": [],
   "source": []
  },
  {
   "cell_type": "code",
   "execution_count": null,
   "id": "f9a22f54-9dcf-487c-8ce9-494be9838096",
   "metadata": {},
   "outputs": [],
   "source": []
  },
  {
   "cell_type": "code",
   "execution_count": null,
   "id": "9bfb0916-e9f1-4de3-b5a4-f7507f3968ae",
   "metadata": {},
   "outputs": [],
   "source": []
  },
  {
   "cell_type": "code",
   "execution_count": null,
   "id": "9f4cf257-1dd9-4bba-924f-969771e25513",
   "metadata": {},
   "outputs": [],
   "source": []
  },
  {
   "cell_type": "code",
   "execution_count": null,
   "id": "0fd6fa38-4d88-495c-9f8d-e7c1cb2d83a3",
   "metadata": {},
   "outputs": [],
   "source": []
  },
  {
   "cell_type": "code",
   "execution_count": null,
   "id": "147f62de-9e82-4fb9-8998-fc060d4e2a5c",
   "metadata": {},
   "outputs": [],
   "source": []
  }
 ],
 "metadata": {
  "kernelspec": {
   "display_name": "Python 3 (ipykernel)",
   "language": "python",
   "name": "python3"
  },
  "language_info": {
   "codemirror_mode": {
    "name": "ipython",
    "version": 3
   },
   "file_extension": ".py",
   "mimetype": "text/x-python",
   "name": "python",
   "nbconvert_exporter": "python",
   "pygments_lexer": "ipython3",
   "version": "3.11.7"
  }
 },
 "nbformat": 4,
 "nbformat_minor": 5
}
